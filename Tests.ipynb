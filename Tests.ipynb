{
 "cells": [
  {
   "cell_type": "code",
   "execution_count": 2,
   "id": "ae7b0e64-f1cb-4b42-b481-7339779ddfa9",
   "metadata": {},
   "outputs": [],
   "source": [
    "def swap(arr, i,j):\n",
    "    temp = arr[i]\n",
    "    arr[i] = arr[j]\n",
    "    arr[j] = temp"
   ]
  },
  {
   "cell_type": "code",
   "execution_count": 9,
   "id": "7e7dcc5f-0918-4bed-a99a-7948e07b415c",
   "metadata": {},
   "outputs": [],
   "source": [
    "\n",
    "def bubble_sort(arr):\n",
    "    for i in range(len(arr) - 1, 0, -1):\n",
    "        for j in range(i):\n",
    "            if arr[j + 1] < arr[j]:\n",
    "                swap(arr, j, j + 1)\n",
    "    return arr\n",
    "                "
   ]
  },
  {
   "cell_type": "code",
   "execution_count": 10,
   "id": "2ff6d2b3-aa0c-4282-b02f-e0e02c95d510",
   "metadata": {},
   "outputs": [
    {
     "name": "stdout",
     "output_type": "stream",
     "text": [
      "[0, 1, 3, 4, 5, 7, 10, 11, 13, 25, 25, 33, 37, 45, 50, 70, 84, 100]\n"
     ]
    }
   ],
   "source": [
    "print(bubble_sort([10, 3, 4, 1, 5, 0, 100, 50, 45, 37, 84, 25, 13, 7, 70, 25, 33, 11]))"
   ]
  },
  {
   "cell_type": "code",
   "execution_count": null,
   "id": "6f212ddd-252a-4f64-88f4-880aa07a740e",
   "metadata": {},
   "outputs": [],
   "source": []
  }
 ],
 "metadata": {
  "kernelspec": {
   "display_name": "Python 3 (ipykernel)",
   "language": "python",
   "name": "python3"
  },
  "language_info": {
   "codemirror_mode": {
    "name": "ipython",
    "version": 3
   },
   "file_extension": ".py",
   "mimetype": "text/x-python",
   "name": "python",
   "nbconvert_exporter": "python",
   "pygments_lexer": "ipython3",
   "version": "3.11.7"
  }
 },
 "nbformat": 4,
 "nbformat_minor": 5
}
